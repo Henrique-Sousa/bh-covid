{
 "cells": [
  {
   "cell_type": "code",
   "execution_count": 18,
   "metadata": {},
   "outputs": [],
   "source": [
    "import pandas as pd\n",
    "import matplotlib.pyplot as plt"
   ]
  },
  {
   "cell_type": "code",
   "execution_count": 19,
   "metadata": {},
   "outputs": [
    {
     "data": {
      "text/html": [
       "<div>\n",
       "<style scoped>\n",
       "    .dataframe tbody tr th:only-of-type {\n",
       "        vertical-align: middle;\n",
       "    }\n",
       "\n",
       "    .dataframe tbody tr th {\n",
       "        vertical-align: top;\n",
       "    }\n",
       "\n",
       "    .dataframe thead th {\n",
       "        text-align: right;\n",
       "    }\n",
       "</style>\n",
       "<table border=\"1\" class=\"dataframe\">\n",
       "  <thead>\n",
       "    <tr style=\"text-align: right;\">\n",
       "      <th></th>\n",
       "      <th>DATA</th>\n",
       "      <th>CONFIRMADOS</th>\n",
       "      <th>EM ACOMPANHAMENTO</th>\n",
       "      <th>RECUPERADOS</th>\n",
       "      <th>ÓBITOS</th>\n",
       "    </tr>\n",
       "  </thead>\n",
       "  <tbody>\n",
       "    <tr>\n",
       "      <th>0</th>\n",
       "      <td>2020-05-15</td>\n",
       "      <td>1088</td>\n",
       "      <td>NaN</td>\n",
       "      <td>NaN</td>\n",
       "      <td>29</td>\n",
       "    </tr>\n",
       "    <tr>\n",
       "      <th>1</th>\n",
       "      <td>2020-05-18</td>\n",
       "      <td>1189</td>\n",
       "      <td>156.0</td>\n",
       "      <td>1002.0</td>\n",
       "      <td>31</td>\n",
       "    </tr>\n",
       "    <tr>\n",
       "      <th>2</th>\n",
       "      <td>2020-05-19</td>\n",
       "      <td>1249</td>\n",
       "      <td>155.0</td>\n",
       "      <td>1061.0</td>\n",
       "      <td>33</td>\n",
       "    </tr>\n",
       "    <tr>\n",
       "      <th>3</th>\n",
       "      <td>2020-05-20</td>\n",
       "      <td>1249</td>\n",
       "      <td>NaN</td>\n",
       "      <td>NaN</td>\n",
       "      <td>35</td>\n",
       "    </tr>\n",
       "    <tr>\n",
       "      <th>4</th>\n",
       "      <td>2020-05-21</td>\n",
       "      <td>1316</td>\n",
       "      <td>187.0</td>\n",
       "      <td>1090.0</td>\n",
       "      <td>36</td>\n",
       "    </tr>\n",
       "    <tr>\n",
       "      <th>...</th>\n",
       "      <td>...</td>\n",
       "      <td>...</td>\n",
       "      <td>...</td>\n",
       "      <td>...</td>\n",
       "      <td>...</td>\n",
       "    </tr>\n",
       "    <tr>\n",
       "      <th>126</th>\n",
       "      <td>2020-11-16</td>\n",
       "      <td>51194</td>\n",
       "      <td>2279.0</td>\n",
       "      <td>47349.0</td>\n",
       "      <td>1566</td>\n",
       "    </tr>\n",
       "    <tr>\n",
       "      <th>127</th>\n",
       "      <td>2020-11-17</td>\n",
       "      <td>51494</td>\n",
       "      <td>2343.0</td>\n",
       "      <td>47571.0</td>\n",
       "      <td>1580</td>\n",
       "    </tr>\n",
       "    <tr>\n",
       "      <th>128</th>\n",
       "      <td>2020-11-18</td>\n",
       "      <td>51802</td>\n",
       "      <td>2386.0</td>\n",
       "      <td>47826.0</td>\n",
       "      <td>1590</td>\n",
       "    </tr>\n",
       "    <tr>\n",
       "      <th>129</th>\n",
       "      <td>2020-11-19</td>\n",
       "      <td>52081</td>\n",
       "      <td>2440.0</td>\n",
       "      <td>48044.0</td>\n",
       "      <td>1597</td>\n",
       "    </tr>\n",
       "    <tr>\n",
       "      <th>130</th>\n",
       "      <td>2020-11-20</td>\n",
       "      <td>52352</td>\n",
       "      <td>2456.0</td>\n",
       "      <td>48286.0</td>\n",
       "      <td>1610</td>\n",
       "    </tr>\n",
       "  </tbody>\n",
       "</table>\n",
       "<p>131 rows × 5 columns</p>\n",
       "</div>"
      ],
      "text/plain": [
       "           DATA  CONFIRMADOS  EM ACOMPANHAMENTO  RECUPERADOS  ÓBITOS\n",
       "0    2020-05-15         1088                NaN          NaN      29\n",
       "1    2020-05-18         1189              156.0       1002.0      31\n",
       "2    2020-05-19         1249              155.0       1061.0      33\n",
       "3    2020-05-20         1249                NaN          NaN      35\n",
       "4    2020-05-21         1316              187.0       1090.0      36\n",
       "..          ...          ...                ...          ...     ...\n",
       "126  2020-11-16        51194             2279.0      47349.0    1566\n",
       "127  2020-11-17        51494             2343.0      47571.0    1580\n",
       "128  2020-11-18        51802             2386.0      47826.0    1590\n",
       "129  2020-11-19        52081             2440.0      48044.0    1597\n",
       "130  2020-11-20        52352             2456.0      48286.0    1610\n",
       "\n",
       "[131 rows x 5 columns]"
      ]
     },
     "execution_count": 19,
     "metadata": {},
     "output_type": "execute_result"
    }
   ],
   "source": [
    "# fonte dos dados: https://prefeitura.pbh.gov.br/saude/coronavirus\n",
    "# > BOLETIM EPIDEMIOLÓGICO E ASSISTENCIAL\n",
    "df = pd.read_csv('covid-bh.csv')\n",
    "df"
   ]
  },
  {
   "cell_type": "code",
   "execution_count": 20,
   "metadata": {},
   "outputs": [
    {
     "data": {
      "text/plain": [
       "DATA                  object\n",
       "CONFIRMADOS            int64\n",
       "EM ACOMPANHAMENTO    float64\n",
       "RECUPERADOS          float64\n",
       "ÓBITOS                 int64\n",
       "dtype: object"
      ]
     },
     "execution_count": 20,
     "metadata": {},
     "output_type": "execute_result"
    }
   ],
   "source": [
    "df.dtypes"
   ]
  },
  {
   "cell_type": "code",
   "execution_count": 21,
   "metadata": {},
   "outputs": [
    {
     "data": {
      "text/plain": [
       "0        29\n",
       "1        31\n",
       "2        33\n",
       "3        35\n",
       "4        36\n",
       "       ... \n",
       "126    1566\n",
       "127    1580\n",
       "128    1590\n",
       "129    1597\n",
       "130    1610\n",
       "Name: ÓBITOS, Length: 131, dtype: int64"
      ]
     },
     "execution_count": 21,
     "metadata": {},
     "output_type": "execute_result"
    }
   ],
   "source": [
    "df['ÓBITOS']"
   ]
  },
  {
   "cell_type": "code",
   "execution_count": 22,
   "metadata": {},
   "outputs": [
    {
     "data": {
      "text/plain": [
       "[<matplotlib.lines.Line2D at 0x7f03b97dde80>]"
      ]
     },
     "execution_count": 22,
     "metadata": {},
     "output_type": "execute_result"
    },
    {
     "data": {
      "image/png": "[encoded data removed]",
      "text/plain": [
       "<Figure size 432x288 with 1 Axes>"
      ]
     },
     "metadata": {
      "needs_background": "light"
     },
     "output_type": "display_data"
    }
   ],
   "source": [
    "plt.xticks([1,50,80])\n",
    "plt.plot(df['DATA'], df['ÓBITOS'])"
   ]
  },
  {
   "cell_type": "code",
   "execution_count": 23,
   "metadata": {},
   "outputs": [],
   "source": [
    "df = df.dropna().reset_index(drop=True)"
   ]
  },
  {
   "cell_type": "code",
   "execution_count": 24,
   "metadata": {},
   "outputs": [
    {
     "data": {
      "text/html": [
       "<div>\n",
       "<style scoped>\n",
       "    .dataframe tbody tr th:only-of-type {\n",
       "        vertical-align: middle;\n",
       "    }\n",
       "\n",
       "    .dataframe tbody tr th {\n",
       "        vertical-align: top;\n",
       "    }\n",
       "\n",
       "    .dataframe thead th {\n",
       "        text-align: right;\n",
       "    }\n",
       "</style>\n",
       "<table border=\"1\" class=\"dataframe\">\n",
       "  <thead>\n",
       "    <tr style=\"text-align: right;\">\n",
       "      <th></th>\n",
       "      <th>DATA</th>\n",
       "      <th>CONFIRMADOS</th>\n",
       "      <th>EM ACOMPANHAMENTO</th>\n",
       "      <th>RECUPERADOS</th>\n",
       "      <th>ÓBITOS</th>\n",
       "    </tr>\n",
       "  </thead>\n",
       "  <tbody>\n",
       "    <tr>\n",
       "      <th>0</th>\n",
       "      <td>2020-05-18</td>\n",
       "      <td>1189</td>\n",
       "      <td>156.0</td>\n",
       "      <td>1002.0</td>\n",
       "      <td>31</td>\n",
       "    </tr>\n",
       "    <tr>\n",
       "      <th>1</th>\n",
       "      <td>2020-05-19</td>\n",
       "      <td>1249</td>\n",
       "      <td>155.0</td>\n",
       "      <td>1061.0</td>\n",
       "      <td>33</td>\n",
       "    </tr>\n",
       "    <tr>\n",
       "      <th>2</th>\n",
       "      <td>2020-05-21</td>\n",
       "      <td>1316</td>\n",
       "      <td>187.0</td>\n",
       "      <td>1090.0</td>\n",
       "      <td>36</td>\n",
       "    </tr>\n",
       "    <tr>\n",
       "      <th>3</th>\n",
       "      <td>2020-05-25</td>\n",
       "      <td>1444</td>\n",
       "      <td>275.0</td>\n",
       "      <td>1127.0</td>\n",
       "      <td>42</td>\n",
       "    </tr>\n",
       "    <tr>\n",
       "      <th>4</th>\n",
       "      <td>2020-05-26</td>\n",
       "      <td>1534</td>\n",
       "      <td>280.0</td>\n",
       "      <td>1211.0</td>\n",
       "      <td>43</td>\n",
       "    </tr>\n",
       "    <tr>\n",
       "      <th>...</th>\n",
       "      <td>...</td>\n",
       "      <td>...</td>\n",
       "      <td>...</td>\n",
       "      <td>...</td>\n",
       "      <td>...</td>\n",
       "    </tr>\n",
       "    <tr>\n",
       "      <th>119</th>\n",
       "      <td>2020-11-16</td>\n",
       "      <td>51194</td>\n",
       "      <td>2279.0</td>\n",
       "      <td>47349.0</td>\n",
       "      <td>1566</td>\n",
       "    </tr>\n",
       "    <tr>\n",
       "      <th>120</th>\n",
       "      <td>2020-11-17</td>\n",
       "      <td>51494</td>\n",
       "      <td>2343.0</td>\n",
       "      <td>47571.0</td>\n",
       "      <td>1580</td>\n",
       "    </tr>\n",
       "    <tr>\n",
       "      <th>121</th>\n",
       "      <td>2020-11-18</td>\n",
       "      <td>51802</td>\n",
       "      <td>2386.0</td>\n",
       "      <td>47826.0</td>\n",
       "      <td>1590</td>\n",
       "    </tr>\n",
       "    <tr>\n",
       "      <th>122</th>\n",
       "      <td>2020-11-19</td>\n",
       "      <td>52081</td>\n",
       "      <td>2440.0</td>\n",
       "      <td>48044.0</td>\n",
       "      <td>1597</td>\n",
       "    </tr>\n",
       "    <tr>\n",
       "      <th>123</th>\n",
       "      <td>2020-11-20</td>\n",
       "      <td>52352</td>\n",
       "      <td>2456.0</td>\n",
       "      <td>48286.0</td>\n",
       "      <td>1610</td>\n",
       "    </tr>\n",
       "  </tbody>\n",
       "</table>\n",
       "<p>124 rows × 5 columns</p>\n",
       "</div>"
      ],
      "text/plain": [
       "           DATA  CONFIRMADOS  EM ACOMPANHAMENTO  RECUPERADOS  ÓBITOS\n",
       "0    2020-05-18         1189              156.0       1002.0      31\n",
       "1    2020-05-19         1249              155.0       1061.0      33\n",
       "2    2020-05-21         1316              187.0       1090.0      36\n",
       "3    2020-05-25         1444              275.0       1127.0      42\n",
       "4    2020-05-26         1534              280.0       1211.0      43\n",
       "..          ...          ...                ...          ...     ...\n",
       "119  2020-11-16        51194             2279.0      47349.0    1566\n",
       "120  2020-11-17        51494             2343.0      47571.0    1580\n",
       "121  2020-11-18        51802             2386.0      47826.0    1590\n",
       "122  2020-11-19        52081             2440.0      48044.0    1597\n",
       "123  2020-11-20        52352             2456.0      48286.0    1610\n",
       "\n",
       "[124 rows x 5 columns]"
      ]
     },
     "execution_count": 24,
     "metadata": {},
     "output_type": "execute_result"
    }
   ],
   "source": [
    "df"
   ]
  },
  {
   "cell_type": "code",
   "execution_count": 25,
   "metadata": {},
   "outputs": [
    {
     "data": {
      "text/plain": [
       "[<matplotlib.lines.Line2D at 0x7f03b97bbc40>]"
      ]
     },
     "execution_count": 25,
     "metadata": {},
     "output_type": "execute_result"
    },
    {
     "data": {
      "image/png": "[encoded data removed]",
      "text/plain": [
       "<Figure size 432x288 with 1 Axes>"
      ]
     },
     "metadata": {
      "needs_background": "light"
     },
     "output_type": "display_data"
    }
   ],
   "source": [
    "plt.xticks([0,20,40,60,79])\n",
    "plt.plot(df['DATA'], df['ÓBITOS'])"
   ]
  },
  {
   "cell_type": "code",
   "execution_count": 26,
   "metadata": {},
   "outputs": [
    {
     "data": {
      "text/plain": [
       "[<matplotlib.lines.Line2D at 0x7f03b978dbe0>]"
      ]
     },
     "execution_count": 26,
     "metadata": {},
     "output_type": "execute_result"
    },
    {
     "data": {
      "image/png": "[encoded data removed]",
      "text/plain": [
       "<Figure size 432x288 with 1 Axes>"
      ]
     },
     "metadata": {
      "needs_background": "light"
     },
     "output_type": "display_data"
    }
   ],
   "source": [
    "# if confirmed means confirmed infected now (accumulated infected - removed)\n",
    "plt.xticks([0,20,40,60,79])\n",
    "plt.plot(df['DATA'], df['CONFIRMADOS'])"
   ]
  },
  {
   "cell_type": "code",
   "execution_count": 27,
   "metadata": {},
   "outputs": [
    {
     "name": "stderr",
     "output_type": "stream",
     "text": [
      "<ipython-input-27-d5e2d50be54a>:2: SettingWithCopyWarning: \n",
      "A value is trying to be set on a copy of a slice from a DataFrame\n",
      "\n",
      "See the caveats in the documentation: https://pandas.pydata.org/pandas-docs/stable/user_guide/indexing.html#returning-a-view-versus-a-copy\n",
      "  df['RECUPERADOSNOVOS'][0] = 0\n"
     ]
    }
   ],
   "source": [
    "df['RECUPERADOSNOVOS'] = df['RECUPERADOS'].diff()\n",
    "df['RECUPERADOSNOVOS'][0] = 0"
   ]
  },
  {
   "cell_type": "code",
   "execution_count": 28,
   "metadata": {},
   "outputs": [
    {
     "data": {
      "text/plain": [
       "0.0"
      ]
     },
     "execution_count": 28,
     "metadata": {},
     "output_type": "execute_result"
    }
   ],
   "source": [
    "df['RECUPERADOSNOVOS'][0]"
   ]
  },
  {
   "cell_type": "code",
   "execution_count": 29,
   "metadata": {},
   "outputs": [
    {
     "data": {
      "text/plain": [
       "[<matplotlib.lines.Line2D at 0x7f03b96dde80>]"
      ]
     },
     "execution_count": 29,
     "metadata": {},
     "output_type": "execute_result"
    },
    {
     "data": {
      "image/png": "[encoded data removed]",
      "text/plain": [
       "<Figure size 432x288 with 1 Axes>"
      ]
     },
     "metadata": {
      "needs_background": "light"
     },
     "output_type": "display_data"
    }
   ],
   "source": [
    "# if recovered means removed (recovered + dead) \n",
    "sick = df['CONFIRMADOS'] - df['RECUPERADOSNOVOS']\n",
    "plt.xticks([0,20,40,60,79])\n",
    "plt.plot(df['DATA'], sick)"
   ]
  },
  {
   "cell_type": "code",
   "execution_count": 30,
   "metadata": {},
   "outputs": [
    {
     "data": {
      "text/plain": [
       "[<matplotlib.lines.Line2D at 0x7f03b96b0b50>]"
      ]
     },
     "execution_count": 30,
     "metadata": {},
     "output_type": "execute_result"
    },
    {
     "data": {
      "image/png": "[encoded data removed]",
      "text/plain": [
       "<Figure size 432x288 with 1 Axes>"
      ]
     },
     "metadata": {
      "needs_background": "light"
     },
     "output_type": "display_data"
    }
   ],
   "source": [
    "# if recovered really means recovered\n",
    "sick = df['CONFIRMADOS'] - df['RECUPERADOSNOVOS'] - df['ÓBITOS']\n",
    "plt.xticks([0,20,40,60,79])\n",
    "plt.plot(df['DATA'], sick)"
   ]
  }
 ],
 "metadata": {
  "kernelspec": {
   "display_name": "Python 3",
   "language": "python",
   "name": "python3"
  },
  "language_info": {
   "codemirror_mode": {
    "name": "ipython",
    "version": 3
   },
   "file_extension": ".py",
   "mimetype": "text/x-python",
   "name": "python",
   "nbconvert_exporter": "python",
   "pygments_lexer": "ipython3",
   "version": "3.8.3"
  }
 },
 "nbformat": 4,
 "nbformat_minor": 4
}
