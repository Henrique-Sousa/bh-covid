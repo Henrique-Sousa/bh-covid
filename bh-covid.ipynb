{
 "cells": [
  {
   "cell_type": "code",
   "execution_count": 1,
   "metadata": {},
   "outputs": [],
   "source": [
    "import pandas as pd\n",
    "import matplotlib.pyplot as plt"
   ]
  },
  {
   "cell_type": "code",
   "execution_count": 2,
   "metadata": {},
   "outputs": [
    {
     "data": {
      "text/html": [
       "<div>\n",
       "<style scoped>\n",
       "    .dataframe tbody tr th:only-of-type {\n",
       "        vertical-align: middle;\n",
       "    }\n",
       "\n",
       "    .dataframe tbody tr th {\n",
       "        vertical-align: top;\n",
       "    }\n",
       "\n",
       "    .dataframe thead th {\n",
       "        text-align: right;\n",
       "    }\n",
       "</style>\n",
       "<table border=\"1\" class=\"dataframe\">\n",
       "  <thead>\n",
       "    <tr style=\"text-align: right;\">\n",
       "      <th></th>\n",
       "      <th>DATA</th>\n",
       "      <th>CONFIRMADOS</th>\n",
       "      <th>EM ACOMPANHAMENTO</th>\n",
       "      <th>RECUPERADOS</th>\n",
       "      <th>ÓBITOS</th>\n",
       "    </tr>\n",
       "  </thead>\n",
       "  <tbody>\n",
       "    <tr>\n",
       "      <th>0</th>\n",
       "      <td>2020-05-15</td>\n",
       "      <td>1088</td>\n",
       "      <td>NaN</td>\n",
       "      <td>NaN</td>\n",
       "      <td>29</td>\n",
       "    </tr>\n",
       "    <tr>\n",
       "      <th>1</th>\n",
       "      <td>2020-05-18</td>\n",
       "      <td>1189</td>\n",
       "      <td>156.0</td>\n",
       "      <td>1002.0</td>\n",
       "      <td>31</td>\n",
       "    </tr>\n",
       "    <tr>\n",
       "      <th>2</th>\n",
       "      <td>2020-05-19</td>\n",
       "      <td>1249</td>\n",
       "      <td>155.0</td>\n",
       "      <td>1061.0</td>\n",
       "      <td>33</td>\n",
       "    </tr>\n",
       "    <tr>\n",
       "      <th>3</th>\n",
       "      <td>2020-05-20</td>\n",
       "      <td>1249</td>\n",
       "      <td>NaN</td>\n",
       "      <td>NaN</td>\n",
       "      <td>35</td>\n",
       "    </tr>\n",
       "    <tr>\n",
       "      <th>4</th>\n",
       "      <td>2020-05-21</td>\n",
       "      <td>1316</td>\n",
       "      <td>187.0</td>\n",
       "      <td>1090.0</td>\n",
       "      <td>36</td>\n",
       "    </tr>\n",
       "    <tr>\n",
       "      <th>...</th>\n",
       "      <td>...</td>\n",
       "      <td>...</td>\n",
       "      <td>...</td>\n",
       "      <td>...</td>\n",
       "      <td>...</td>\n",
       "    </tr>\n",
       "    <tr>\n",
       "      <th>140</th>\n",
       "      <td>2020-12-04</td>\n",
       "      <td>55170</td>\n",
       "      <td>2652.0</td>\n",
       "      <td>51373.0</td>\n",
       "      <td>1685</td>\n",
       "    </tr>\n",
       "    <tr>\n",
       "      <th>141</th>\n",
       "      <td>2020-12-07</td>\n",
       "      <td>56106</td>\n",
       "      <td>2384.0</td>\n",
       "      <td>52024.0</td>\n",
       "      <td>1698</td>\n",
       "    </tr>\n",
       "    <tr>\n",
       "      <th>142</th>\n",
       "      <td>2020-12-09</td>\n",
       "      <td>56106</td>\n",
       "      <td>2384.0</td>\n",
       "      <td>52024.0</td>\n",
       "      <td>1703</td>\n",
       "    </tr>\n",
       "    <tr>\n",
       "      <th>143</th>\n",
       "      <td>2020-12-10</td>\n",
       "      <td>56948</td>\n",
       "      <td>2347.0</td>\n",
       "      <td>52903.0</td>\n",
       "      <td>1723</td>\n",
       "    </tr>\n",
       "    <tr>\n",
       "      <th>144</th>\n",
       "      <td>2020-12-11</td>\n",
       "      <td>57330</td>\n",
       "      <td>2420.0</td>\n",
       "      <td>53187.0</td>\n",
       "      <td>1736</td>\n",
       "    </tr>\n",
       "  </tbody>\n",
       "</table>\n",
       "<p>145 rows × 5 columns</p>\n",
       "</div>"
      ],
      "text/plain": [
       "           DATA  CONFIRMADOS  EM ACOMPANHAMENTO  RECUPERADOS  ÓBITOS\n",
       "0    2020-05-15         1088                NaN          NaN      29\n",
       "1    2020-05-18         1189              156.0       1002.0      31\n",
       "2    2020-05-19         1249              155.0       1061.0      33\n",
       "3    2020-05-20         1249                NaN          NaN      35\n",
       "4    2020-05-21         1316              187.0       1090.0      36\n",
       "..          ...          ...                ...          ...     ...\n",
       "140  2020-12-04        55170             2652.0      51373.0    1685\n",
       "141  2020-12-07        56106             2384.0      52024.0    1698\n",
       "142  2020-12-09        56106             2384.0      52024.0    1703\n",
       "143  2020-12-10        56948             2347.0      52903.0    1723\n",
       "144  2020-12-11        57330             2420.0      53187.0    1736\n",
       "\n",
       "[145 rows x 5 columns]"
      ]
     },
     "execution_count": 2,
     "metadata": {},
     "output_type": "execute_result"
    }
   ],
   "source": [
    "# fonte dos dados: https://prefeitura.pbh.gov.br/saude/coronavirus\n",
    "# > BOLETIM EPIDEMIOLÓGICO E ASSISTENCIAL\n",
    "df = pd.read_csv('covid-bh.csv')\n",
    "df"
   ]
  },
  {
   "cell_type": "code",
   "execution_count": 3,
   "metadata": {},
   "outputs": [
    {
     "data": {
      "text/plain": [
       "DATA                  object\n",
       "CONFIRMADOS            int64\n",
       "EM ACOMPANHAMENTO    float64\n",
       "RECUPERADOS          float64\n",
       "ÓBITOS                 int64\n",
       "dtype: object"
      ]
     },
     "execution_count": 3,
     "metadata": {},
     "output_type": "execute_result"
    }
   ],
   "source": [
    "df.dtypes"
   ]
  },
  {
   "cell_type": "code",
   "execution_count": 4,
   "metadata": {},
   "outputs": [
    {
     "data": {
      "text/plain": [
       "0        29\n",
       "1        31\n",
       "2        33\n",
       "3        35\n",
       "4        36\n",
       "       ... \n",
       "140    1685\n",
       "141    1698\n",
       "142    1703\n",
       "143    1723\n",
       "144    1736\n",
       "Name: ÓBITOS, Length: 145, dtype: int64"
      ]
     },
     "execution_count": 4,
     "metadata": {},
     "output_type": "execute_result"
    }
   ],
   "source": [
    "df['ÓBITOS']"
   ]
  },
  {
   "cell_type": "code",
   "execution_count": 5,
   "metadata": {},
   "outputs": [
    {
     "data": {
      "text/plain": [
       "[<matplotlib.lines.Line2D at 0x7f6aa9dc4f70>]"
      ]
     },
     "execution_count": 5,
     "metadata": {},
     "output_type": "execute_result"
    },
    {
     "data": {
      "image/png": "[encoded data removed]",
      "text/plain": [
       "<Figure size 432x288 with 1 Axes>"
      ]
     },
     "metadata": {
      "needs_background": "light"
     },
     "output_type": "display_data"
    }
   ],
   "source": [
    "plt.xticks([1,50,80])\n",
    "plt.plot(df['DATA'], df['ÓBITOS'])"
   ]
  },
  {
   "cell_type": "code",
   "execution_count": 6,
   "metadata": {},
   "outputs": [],
   "source": [
    "df = df.dropna().reset_index(drop=True)"
   ]
  },
  {
   "cell_type": "code",
   "execution_count": 7,
   "metadata": {},
   "outputs": [
    {
     "data": {
      "text/html": [
       "<div>\n",
       "<style scoped>\n",
       "    .dataframe tbody tr th:only-of-type {\n",
       "        vertical-align: middle;\n",
       "    }\n",
       "\n",
       "    .dataframe tbody tr th {\n",
       "        vertical-align: top;\n",
       "    }\n",
       "\n",
       "    .dataframe thead th {\n",
       "        text-align: right;\n",
       "    }\n",
       "</style>\n",
       "<table border=\"1\" class=\"dataframe\">\n",
       "  <thead>\n",
       "    <tr style=\"text-align: right;\">\n",
       "      <th></th>\n",
       "      <th>DATA</th>\n",
       "      <th>CONFIRMADOS</th>\n",
       "      <th>EM ACOMPANHAMENTO</th>\n",
       "      <th>RECUPERADOS</th>\n",
       "      <th>ÓBITOS</th>\n",
       "    </tr>\n",
       "  </thead>\n",
       "  <tbody>\n",
       "    <tr>\n",
       "      <th>0</th>\n",
       "      <td>2020-05-18</td>\n",
       "      <td>1189</td>\n",
       "      <td>156.0</td>\n",
       "      <td>1002.0</td>\n",
       "      <td>31</td>\n",
       "    </tr>\n",
       "    <tr>\n",
       "      <th>1</th>\n",
       "      <td>2020-05-19</td>\n",
       "      <td>1249</td>\n",
       "      <td>155.0</td>\n",
       "      <td>1061.0</td>\n",
       "      <td>33</td>\n",
       "    </tr>\n",
       "    <tr>\n",
       "      <th>2</th>\n",
       "      <td>2020-05-21</td>\n",
       "      <td>1316</td>\n",
       "      <td>187.0</td>\n",
       "      <td>1090.0</td>\n",
       "      <td>36</td>\n",
       "    </tr>\n",
       "    <tr>\n",
       "      <th>3</th>\n",
       "      <td>2020-05-25</td>\n",
       "      <td>1444</td>\n",
       "      <td>275.0</td>\n",
       "      <td>1127.0</td>\n",
       "      <td>42</td>\n",
       "    </tr>\n",
       "    <tr>\n",
       "      <th>4</th>\n",
       "      <td>2020-05-26</td>\n",
       "      <td>1534</td>\n",
       "      <td>280.0</td>\n",
       "      <td>1211.0</td>\n",
       "      <td>43</td>\n",
       "    </tr>\n",
       "    <tr>\n",
       "      <th>...</th>\n",
       "      <td>...</td>\n",
       "      <td>...</td>\n",
       "      <td>...</td>\n",
       "      <td>...</td>\n",
       "      <td>...</td>\n",
       "    </tr>\n",
       "    <tr>\n",
       "      <th>133</th>\n",
       "      <td>2020-12-04</td>\n",
       "      <td>55170</td>\n",
       "      <td>2652.0</td>\n",
       "      <td>51373.0</td>\n",
       "      <td>1685</td>\n",
       "    </tr>\n",
       "    <tr>\n",
       "      <th>134</th>\n",
       "      <td>2020-12-07</td>\n",
       "      <td>56106</td>\n",
       "      <td>2384.0</td>\n",
       "      <td>52024.0</td>\n",
       "      <td>1698</td>\n",
       "    </tr>\n",
       "    <tr>\n",
       "      <th>135</th>\n",
       "      <td>2020-12-09</td>\n",
       "      <td>56106</td>\n",
       "      <td>2384.0</td>\n",
       "      <td>52024.0</td>\n",
       "      <td>1703</td>\n",
       "    </tr>\n",
       "    <tr>\n",
       "      <th>136</th>\n",
       "      <td>2020-12-10</td>\n",
       "      <td>56948</td>\n",
       "      <td>2347.0</td>\n",
       "      <td>52903.0</td>\n",
       "      <td>1723</td>\n",
       "    </tr>\n",
       "    <tr>\n",
       "      <th>137</th>\n",
       "      <td>2020-12-11</td>\n",
       "      <td>57330</td>\n",
       "      <td>2420.0</td>\n",
       "      <td>53187.0</td>\n",
       "      <td>1736</td>\n",
       "    </tr>\n",
       "  </tbody>\n",
       "</table>\n",
       "<p>138 rows × 5 columns</p>\n",
       "</div>"
      ],
      "text/plain": [
       "           DATA  CONFIRMADOS  EM ACOMPANHAMENTO  RECUPERADOS  ÓBITOS\n",
       "0    2020-05-18         1189              156.0       1002.0      31\n",
       "1    2020-05-19         1249              155.0       1061.0      33\n",
       "2    2020-05-21         1316              187.0       1090.0      36\n",
       "3    2020-05-25         1444              275.0       1127.0      42\n",
       "4    2020-05-26         1534              280.0       1211.0      43\n",
       "..          ...          ...                ...          ...     ...\n",
       "133  2020-12-04        55170             2652.0      51373.0    1685\n",
       "134  2020-12-07        56106             2384.0      52024.0    1698\n",
       "135  2020-12-09        56106             2384.0      52024.0    1703\n",
       "136  2020-12-10        56948             2347.0      52903.0    1723\n",
       "137  2020-12-11        57330             2420.0      53187.0    1736\n",
       "\n",
       "[138 rows x 5 columns]"
      ]
     },
     "execution_count": 7,
     "metadata": {},
     "output_type": "execute_result"
    }
   ],
   "source": [
    "df"
   ]
  },
  {
   "cell_type": "code",
   "execution_count": 8,
   "metadata": {},
   "outputs": [
    {
     "data": {
      "text/plain": [
       "[<matplotlib.lines.Line2D at 0x7f6aa9d42bb0>]"
      ]
     },
     "execution_count": 8,
     "metadata": {},
     "output_type": "execute_result"
    },
    {
     "data": {
      "image/png": "[encoded data removed]",
      "text/plain": [
       "<Figure size 432x288 with 1 Axes>"
      ]
     },
     "metadata": {
      "needs_background": "light"
     },
     "output_type": "display_data"
    }
   ],
   "source": [
    "plt.xticks([0,20,40,60,79])\n",
    "plt.plot(df['DATA'], df['ÓBITOS'])"
   ]
  },
  {
   "cell_type": "code",
   "execution_count": 9,
   "metadata": {},
   "outputs": [
    {
     "data": {
      "text/plain": [
       "[<matplotlib.lines.Line2D at 0x7f6aa9d13fa0>]"
      ]
     },
     "execution_count": 9,
     "metadata": {},
     "output_type": "execute_result"
    },
    {
     "data": {
      "image/png": "[encoded data removed]",
      "text/plain": [
       "<Figure size 432x288 with 1 Axes>"
      ]
     },
     "metadata": {
      "needs_background": "light"
     },
     "output_type": "display_data"
    }
   ],
   "source": [
    "# if confirmed means confirmed infected now (accumulated infected - removed)\n",
    "plt.xticks([0,20,40,60,79])\n",
    "plt.plot(df['DATA'], df['CONFIRMADOS'])"
   ]
  },
  {
   "cell_type": "code",
   "execution_count": 10,
   "metadata": {},
   "outputs": [
    {
     "name": "stderr",
     "output_type": "stream",
     "text": [
      "<ipython-input-10-d5e2d50be54a>:2: SettingWithCopyWarning: \n",
      "A value is trying to be set on a copy of a slice from a DataFrame\n",
      "\n",
      "See the caveats in the documentation: https://pandas.pydata.org/pandas-docs/stable/user_guide/indexing.html#returning-a-view-versus-a-copy\n",
      "  df['RECUPERADOSNOVOS'][0] = 0\n"
     ]
    }
   ],
   "source": [
    "df['RECUPERADOSNOVOS'] = df['RECUPERADOS'].diff()\n",
    "df['RECUPERADOSNOVOS'][0] = 0"
   ]
  },
  {
   "cell_type": "code",
   "execution_count": 11,
   "metadata": {},
   "outputs": [
    {
     "data": {
      "text/plain": [
       "0.0"
      ]
     },
     "execution_count": 11,
     "metadata": {},
     "output_type": "execute_result"
    }
   ],
   "source": [
    "df['RECUPERADOSNOVOS'][0]"
   ]
  },
  {
   "cell_type": "code",
   "execution_count": 12,
   "metadata": {},
   "outputs": [
    {
     "data": {
      "text/plain": [
       "[<matplotlib.lines.Line2D at 0x7f6aa9ca1a30>]"
      ]
     },
     "execution_count": 12,
     "metadata": {},
     "output_type": "execute_result"
    },
    {
     "data": {
      "image/png": "[encoded data removed]",
      "text/plain": [
       "<Figure size 432x288 with 1 Axes>"
      ]
     },
     "metadata": {
      "needs_background": "light"
     },
     "output_type": "display_data"
    }
   ],
   "source": [
    "# if recovered means removed (recovered + dead) \n",
    "sick = df['CONFIRMADOS'] - df['RECUPERADOSNOVOS']\n",
    "plt.xticks([0,20,40,60,79])\n",
    "plt.plot(df['DATA'], sick)"
   ]
  },
  {
   "cell_type": "code",
   "execution_count": 13,
   "metadata": {},
   "outputs": [
    {
     "data": {
      "text/plain": [
       "[<matplotlib.lines.Line2D at 0x7f6aa7baec10>]"
      ]
     },
     "execution_count": 13,
     "metadata": {},
     "output_type": "execute_result"
    },
    {
     "data": {
      "image/png": "[encoded data removed]",
      "text/plain": [
       "<Figure size 432x288 with 1 Axes>"
      ]
     },
     "metadata": {
      "needs_background": "light"
     },
     "output_type": "display_data"
    }
   ],
   "source": [
    "# if recovered really means recovered\n",
    "sick = df['CONFIRMADOS'] - df['RECUPERADOSNOVOS'] - df['ÓBITOS']\n",
    "plt.xticks([0,20,40,60,79])\n",
    "plt.plot(df['DATA'], sick)"
   ]
  }
 ],
 "metadata": {
  "kernelspec": {
   "display_name": "Python 3",
   "language": "python",
   "name": "python3"
  },
  "language_info": {
   "codemirror_mode": {
    "name": "ipython",
    "version": 3
   },
   "file_extension": ".py",
   "mimetype": "text/x-python",
   "name": "python",
   "nbconvert_exporter": "python",
   "pygments_lexer": "ipython3",
   "version": "3.8.3"
  }
 },
 "nbformat": 4,
 "nbformat_minor": 4
}
